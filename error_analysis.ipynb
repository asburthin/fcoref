{
 "cells": [
  {
   "cell_type": "code",
   "execution_count": 1,
   "metadata": {},
   "outputs": [
    {
     "name": "stderr",
     "output_type": "stream",
     "text": [
      "2023-10-05 15:44:49.258293: I tensorflow/core/platform/cpu_feature_guard.cc:182] This TensorFlow binary is optimized to use available CPU instructions in performance-critical operations.\n",
      "To enable the following instructions: AVX2 FMA, in other operations, rebuild TensorFlow with the appropriate compiler flags.\n",
      "2023-10-05 15:44:49.877559: W tensorflow/compiler/tf2tensorrt/utils/py_utils.cc:38] TF-TRT Warning: Could not find TensorRT\n",
      "2023-10-05 15:44:50.339513: I tensorflow/compiler/xla/stream_executor/cuda/cuda_gpu_executor.cc:996] successful NUMA node read from SysFS had negative value (-1), but there must be at least one NUMA node, so returning NUMA node zero. See more at https://github.com/torvalds/linux/blob/v6.0/Documentation/ABI/testing/sysfs-bus-pci#L344-L355\n",
      "2023-10-05 15:44:50.339815: W tensorflow/core/common_runtime/gpu/gpu_device.cc:1956] Cannot dlopen some GPU libraries. Please make sure the missing libraries mentioned above are installed properly if you would like to use GPU. Follow the guide at https://www.tensorflow.org/install/gpu for how to download and setup the required libraries for your platform.\n",
      "Skipping registering GPU devices...\n",
      "10/05/2023 15:44:56 - INFO - \t missing_keys: []\n",
      "10/05/2023 15:44:56 - INFO - \t unexpected_keys: []\n",
      "10/05/2023 15:44:56 - INFO - \t mismatched_keys: []\n",
      "10/05/2023 15:44:56 - INFO - \t error_msgs: []\n",
      "10/05/2023 15:44:56 - INFO - \t Model Parameters: 113.7M, Transformer: 105.2M, Coref head: 8.4M\n"
     ]
    },
    {
     "data": {
      "text/plain": [
       "<fastcoref.spacy_component.spacy_component.FastCorefResolver at 0x7fe5de45cfd0>"
      ]
     },
     "execution_count": 1,
     "metadata": {},
     "output_type": "execute_result"
    }
   ],
   "source": [
    "from fastcoref import spacy_component\n",
    "import spacy\n",
    "from fastcoref import FCoref\n",
    "\n",
    "nlp = spacy.blank(\"th\")\n",
    "nlp.add_pipe(\n",
    "    \"fastcoref\",\n",
    "    config={\n",
    "        \"model_architecture\": \"FCoref\",\n",
    "        \"model_path\": \"/home/poomphob/Desktop/Thesis/fastcoref/wangchan_6616/model\",\n",
    "        \"device\": \"cuda:0\",\n",
    "    },\n",
    ")"
   ]
  },
  {
   "cell_type": "code",
   "execution_count": 2,
   "metadata": {},
   "outputs": [],
   "source": [
    "text = \"สาวแค้นโดนบอกเลิก ขับรถเบนซ์หรูของแฟนหนุ่มลงสระ เผยปมเหตุขอเงินทำธุรกิจแต่ผู้ชายไม่ให้ #ต่างประเทศ #เรื่องเล่าเช้านี้\""
   ]
  },
  {
   "cell_type": "code",
   "execution_count": 3,
   "metadata": {},
   "outputs": [
    {
     "name": "stderr",
     "output_type": "stream",
     "text": [
      "10/05/2023 15:44:58 - INFO - \t Tokenize 1 inputs...\n"
     ]
    },
    {
     "data": {
      "application/vnd.jupyter.widget-view+json": {
       "model_id": "5bf81a38fc954dbe81bf8f3cd7214a5e",
       "version_major": 2,
       "version_minor": 0
      },
      "text/plain": [
       "Map:   0%|          | 0/1 [00:00<?, ? examples/s]"
      ]
     },
     "metadata": {},
     "output_type": "display_data"
    },
    {
     "name": "stderr",
     "output_type": "stream",
     "text": [
      "10/05/2023 15:44:58 - INFO - \t ***** Running Inference on 1 texts *****\n"
     ]
    },
    {
     "data": {
      "application/vnd.jupyter.widget-view+json": {
       "model_id": "f471fab094254e4599a8eccb141f2392",
       "version_major": 2,
       "version_minor": 0
      },
      "text/plain": [
       "Inference:   0%|          | 0/1 [00:00<?, ?it/s]"
      ]
     },
     "metadata": {},
     "output_type": "display_data"
    },
    {
     "name": "stdout",
     "output_type": "stream",
     "text": [
      "[[(0, 7), (7, 10), (18, 23), (48, 51)], [(34, 44), (74, 83)]]\n"
     ]
    }
   ],
   "source": [
    "doc = nlp(text)\n",
    "print(doc._.coref_clusters)\n"
   ]
  },
  {
   "cell_type": "markdown",
   "metadata": {},
   "source": [
    "# Eval pipeline"
   ]
  },
  {
   "cell_type": "markdown",
   "metadata": {},
   "source": [
    "## Function"
   ]
  },
  {
   "cell_type": "code",
   "execution_count": 17,
   "metadata": {},
   "outputs": [],
   "source": [
    "import logging\n",
    "from fastcoref.utilities.metrics import MentionEvaluator, CorefEvaluator\n",
    "from transformers import AutoConfig, AutoTokenizer\n",
    "from fastcoref.coref_models.modeling_fcoref import FCorefModel\n",
    "from fastcoref.utilities.util import create_mention_to_antecedent, create_clusters, output_evaluation_metrics, update_metrics\n",
    "from tqdm.auto import tqdm\n",
    "import numpy as np\n",
    "import torch\n",
    "logger = logging.getLogger(__name__)\n",
    "logging.basicConfig(format='%(asctime)s - %(levelname)s - \\t %(message)s',\n",
    "                    datefmt='%m/%d/%Y %H:%M:%S', level=logging.INFO)\n",
    "\n",
    "\n",
    "def load_f_coref_model(args):\n",
    "    logger.info(f'Loading FCoref model with underlying transformer {args.model_name_or_path}')\n",
    "\n",
    "    config = AutoConfig.from_pretrained(args.model_name_or_path, cache_dir=args.cache_dir)\n",
    "    config.coref_head = {\n",
    "        \"max_span_length\": args.max_span_length,\n",
    "        \"top_lambda\": args.top_lambda,\n",
    "        \"ffnn_size\": args.ffnn_size,\n",
    "        \"dropout_prob\": args.dropout_prob,\n",
    "        \"max_segment_len\": args.max_segment_len\n",
    "    }\n",
    "\n",
    "    tokenizer = AutoTokenizer.from_pretrained(\n",
    "        args.model_name_or_path, use_fast=True, add_prefix_space=True, cache_dir=args.cache_dir\n",
    "    )\n",
    "\n",
    "    model = FCorefModel.from_pretrained(\n",
    "        args.model_name_or_path, output_loading_info=False,\n",
    "        config=config, cache_dir=args.cache_dir\n",
    "    )\n",
    "\n",
    "    t_params, h_params = [p / 1000000 for p in model.num_parameters()]\n",
    "    logger.info(f'FCoref Parameters: {t_params + h_params:.1f}M, '\n",
    "                f'Transformer: {t_params:.1f}M, Coref head: {h_params:.1f}M')\n",
    "\n",
    "    return model, tokenizer\n",
    "\n",
    "def evaluate(eval_sampler, model, prefix=''):\n",
    "    count = 0\n",
    "    dataset_str = \"val_set\"\n",
    "    if eval_sampler is None:\n",
    "        logger.info(f'Skipping evaluation. {dataset_str} is None')\n",
    "        return {}\n",
    "\n",
    "    model.eval()\n",
    "\n",
    "    logger.info(f\"***** Running evaluation on {dataset_str} - {len(eval_sampler.dataset)} documents *****\")\n",
    "    \n",
    "    metrics_dict = {\n",
    "        \"loss\": 0.0,\n",
    "        \"post_pruning\": MentionEvaluator(),\n",
    "        \"mentions\": MentionEvaluator(),\n",
    "        \"zero_mentions\": MentionEvaluator(),\n",
    "        \"normal_mentions\": MentionEvaluator(),\n",
    "        \"coref\": CorefEvaluator(),\n",
    "        \"wozp_evaluator\": CorefEvaluator(),\n",
    "    }\n",
    "    doc_to_tokens = {}\n",
    "    doc_to_subtoken_map = {}\n",
    "    doc_to_new_word_map = {}\n",
    "    doc_to_prediction = {}\n",
    "\n",
    "    all_prediction_clusters = []\n",
    "    all_gold_clusters = []\n",
    "    doc_key_list = []\n",
    "\n",
    "    doc_key_to_token_ids = []\n",
    "\n",
    "    with tqdm(desc=\"Inference\", total=len(eval_sampler.dataset)) as progress_bar:\n",
    "        for idx, batch in enumerate(eval_sampler):\n",
    "            doc_keys = batch['doc_key']\n",
    "            tokens = batch['tokens']\n",
    "            subtoken_map = batch['subtoken_map']\n",
    "            new_token_map = batch['new_token_map']\n",
    "            gold_clusters = batch['gold_clusters']\n",
    "            doc_key_to_token_ids.append((doc_keys, batch['input_ids'].cpu().numpy()))\n",
    "\n",
    "            with torch.no_grad():\n",
    "                outputs = model(batch, gold_clusters=gold_clusters, return_all_outputs=True)\n",
    "\n",
    "            outputs_np = tuple(tensor.cpu().numpy() for tensor in outputs)\n",
    "\n",
    "            gold_clusters = gold_clusters.cpu().numpy()\n",
    "            loss, span_starts, span_ends, mention_logits, coref_logits = outputs_np\n",
    "            metrics_dict['loss'] += loss.item()\n",
    "\n",
    "            doc_indices, mention_to_antecedent = create_mention_to_antecedent(span_starts, span_ends, coref_logits)\n",
    "\n",
    "            for i, doc_key in enumerate(doc_keys):\n",
    "                doc_mention_to_antecedent = mention_to_antecedent[np.nonzero(doc_indices == i)]\n",
    "                predicted_clusters = create_clusters(doc_mention_to_antecedent)\n",
    "\n",
    "                doc_to_prediction[doc_key] = predicted_clusters\n",
    "                doc_to_tokens[doc_key] = tokens[i]\n",
    "                doc_to_subtoken_map[doc_key] = subtoken_map[i]\n",
    "                doc_to_new_word_map[doc_key] = new_token_map[i]\n",
    "\n",
    "                all_prediction_clusters.append(predicted_clusters)\n",
    "                all_gold_clusters.append(gold_clusters[i])\n",
    "                doc_key_list.append(doc_key)\n",
    "                # print(f\"Gold_{doc_key}: \",gold_clusters[i])\n",
    "                # print(f\"Predict_{doc_key}: \",predicted_clusters)\n",
    "                # print(\"====================================\")\n",
    "                update_metrics(metrics_dict, span_starts[i], span_ends[i], gold_clusters[i], predicted_clusters)\n",
    "\n",
    "            progress_bar.update(n=len(doc_keys))\n",
    "\n",
    "    results = output_evaluation_metrics(\n",
    "        metrics_dict=metrics_dict, prefix=prefix\n",
    "    )\n",
    "    return results, {\"doc_key\": doc_key_list, \"prediction_clusters\": all_prediction_clusters, \"gold_clusters\": all_gold_clusters}, doc_key_to_token_ids"
   ]
  },
  {
   "cell_type": "code",
   "execution_count": 18,
   "metadata": {},
   "outputs": [],
   "source": [
    "from dataclasses import dataclass\n",
    "@dataclass\n",
    "class TrainingArgs:\n",
    "    model_name_or_path: str\n",
    "    overwrite_output_dir: bool = False\n",
    "    learning_rate: float = 1e-5\n",
    "    head_learning_rate: float = 3e-4\n",
    "    dropout_prob: float = 0.3\n",
    "    weight_decay: float = 0.01\n",
    "    adam_beta1: float = 0.9\n",
    "    adam_beta2: float = 0.98\n",
    "    adam_epsilon: float = 1e-6\n",
    "    epochs: float = 3\n",
    "    ffnn_size: int = 1024\n",
    "    logging_steps: int = 500\n",
    "    eval_steps: int = 500\n",
    "    seed: int = 42\n",
    "    max_span_length: int = 30\n",
    "    top_lambda: float = 0.4\n",
    "    cache_dir: str = 'cache'\n",
    "    max_segment_len: int = 512\n",
    "    max_doc_len: int = None\n",
    "    max_tokens_in_batch: int = 5000\n",
    "    device: str = None"
   ]
  },
  {
   "cell_type": "markdown",
   "metadata": {},
   "source": [
    "## Pipeline"
   ]
  },
  {
   "cell_type": "code",
   "execution_count": 19,
   "metadata": {},
   "outputs": [],
   "source": [
    "device = \"cuda:0\"\n",
    "\n",
    "args = TrainingArgs(\n",
    "    \"/home/poomphob/Desktop/Thesis/fastcoref/wangchan_6616/model\",\n",
    "    device = device,\n",
    "    max_segment_len = 512,\n",
    "    max_tokens_in_batch = 5000,\n",
    ")"
   ]
  },
  {
   "cell_type": "code",
   "execution_count": 20,
   "metadata": {},
   "outputs": [
    {
     "name": "stderr",
     "output_type": "stream",
     "text": [
      "10/05/2023 15:49:55 - INFO - \t Loading FCoref model with underlying transformer /home/poomphob/Desktop/Thesis/fastcoref/wangchan_6616/model\n",
      "10/05/2023 15:49:56 - INFO - \t FCoref Parameters: 113.7M, Transformer: 105.2M, Coref head: 8.4M\n"
     ]
    },
    {
     "name": "stdout",
     "output_type": "stream",
     "text": [
      "Model loaded\n"
     ]
    }
   ],
   "source": [
    "model, tokenizer = load_f_coref_model(args)\n",
    "model.to(device)\n",
    "print(\"Model loaded\")"
   ]
  },
  {
   "cell_type": "code",
   "execution_count": 21,
   "metadata": {},
   "outputs": [],
   "source": [
    "import sys\n",
    "import os\n",
    "sys.path.append(os.path.abspath(\"/home/poomphob/Desktop/Thesis/fastcoref/\"))"
   ]
  },
  {
   "cell_type": "code",
   "execution_count": 22,
   "metadata": {},
   "outputs": [
    {
     "name": "stderr",
     "output_type": "stream",
     "text": [
      "10/05/2023 15:50:03 - WARNING - \t Found cached dataset generator (/home/poomphob/.cache/huggingface/datasets/generator/default-5fed8891deea1ff3/0.0.0)\n",
      "10/05/2023 15:50:03 - WARNING - \t Loading cached processed dataset at /home/poomphob/.cache/huggingface/datasets/generator/default-5fed8891deea1ff3/0.0.0/cache-13d33948e3df49cb.arrow\n",
      "10/05/2023 15:50:03 - WARNING - \t Loading cached sorted indices for dataset at /home/poomphob/.cache/huggingface/datasets/generator/default-5fed8891deea1ff3/0.0.0/cache-c072f1022f64d68c.arrow\n"
     ]
    }
   ],
   "source": [
    "from fastcoref.utilities import coref_dataset\n",
    "import spacy\n",
    "from fastcoref.utilities.collate import DynamicBatchSampler,LeftOversCollator\n",
    "\n",
    "dataset_path = \"/home/poomphob/Desktop/Thesis/s2e_coref/data/01_10_2023_doccano/val_tokens.jsonl\"\n",
    "\n",
    "nlp = spacy.blank(\"th\")\n",
    "\n",
    "dataset = coref_dataset.create(\n",
    "    dataset_path,\n",
    "    tokenizer,\n",
    "    nlp,\n",
    ")\n",
    "\n",
    "collator = LeftOversCollator(\n",
    "    tokenizer=tokenizer,\n",
    "    device=device,\n",
    "    max_segment_len=args.max_segment_len\n",
    ")\n",
    "\n",
    "sampler = DynamicBatchSampler(\n",
    "    dataset=dataset,\n",
    "    collator=collator,\n",
    "    max_tokens=args.max_tokens_in_batch,\n",
    "    max_segment_len=args.max_segment_len\n",
    ")"
   ]
  },
  {
   "cell_type": "code",
   "execution_count": 23,
   "metadata": {},
   "outputs": [
    {
     "name": "stderr",
     "output_type": "stream",
     "text": [
      "10/05/2023 15:50:06 - INFO - \t ***** Running evaluation on val_set - 73 documents *****\n"
     ]
    },
    {
     "data": {
      "application/vnd.jupyter.widget-view+json": {
       "model_id": "6c1809294db44b45b7074b08b442b6dc",
       "version_major": 2,
       "version_minor": 0
      },
      "text/plain": [
       "Inference:   0%|          | 0/73 [00:00<?, ?it/s]"
      ]
     },
     "metadata": {},
     "output_type": "display_data"
    },
    {
     "name": "stderr",
     "output_type": "stream",
     "text": [
      "10/05/2023 15:50:06 - INFO - \t ***** Eval results val *****\n",
      "10/05/2023 15:50:06 - INFO - \t   eval_loss                      = 4.863\n",
      "10/05/2023 15:50:06 - INFO - \t   normal mention precision       = 0.881\n",
      "10/05/2023 15:50:06 - INFO - \t   normal mention recall          = 0.790\n",
      "10/05/2023 15:50:06 - INFO - \t   normal mention f1              = 0.833\n",
      "10/05/2023 15:50:06 - INFO - \t   zero mention precision         = 0.866\n",
      "10/05/2023 15:50:06 - INFO - \t   zero mention recall            = 0.612\n",
      "10/05/2023 15:50:06 - INFO - \t   zero mention f1                = 0.717\n",
      "10/05/2023 15:50:06 - INFO - \t   mention precision              = 0.934\n",
      "10/05/2023 15:50:06 - INFO - \t   mention recall                 = 0.759\n",
      "10/05/2023 15:50:06 - INFO - \t   mention f1                     = 0.838\n",
      "10/05/2023 15:50:06 - INFO - \t   wozp precision                 = 0.769\n",
      "10/05/2023 15:50:06 - INFO - \t   wozp recall                    = 0.691\n",
      "10/05/2023 15:50:06 - INFO - \t   wozp f1                        = 0.727\n",
      "10/05/2023 15:50:06 - INFO - \t   precision                      = 0.748\n",
      "10/05/2023 15:50:06 - INFO - \t   recall                         = 0.619\n",
      "10/05/2023 15:50:06 - INFO - \t   f1                             = 0.665\n"
     ]
    }
   ],
   "source": [
    "result, error_analysis, doc_key_to_token_ids = evaluate(sampler, model, prefix='val')"
   ]
  },
  {
   "cell_type": "code",
   "execution_count": 24,
   "metadata": {},
   "outputs": [],
   "source": [
    "doc_key_to_token_ids_map = {}\n",
    "for doc_keys, token_ids in doc_key_to_token_ids:\n",
    "    for doc_key, token_id in zip(doc_keys, list(token_ids)):\n",
    "        doc_key_to_token_ids_map[doc_key] = token_id"
   ]
  },
  {
   "cell_type": "code",
   "execution_count": 25,
   "metadata": {},
   "outputs": [],
   "source": [
    "def preprocess_cluster(clusters):\n",
    "    clusters = [[mention for mention in cluster if mention[0] != -1 and mention[1] != -1] for cluster in clusters.tolist()]\n",
    "    clusters = [cluster for cluster in clusters if len(cluster) > 0]\n",
    "    return clusters"
   ]
  },
  {
   "cell_type": "code",
   "execution_count": 26,
   "metadata": {},
   "outputs": [],
   "source": [
    "gold_clusters = [preprocess_cluster(clusters) for clusters in error_analysis[\"gold_clusters\"]]\n",
    "prediction_clusters = error_analysis[\"prediction_clusters\"]\n",
    "doc_keys = error_analysis[\"doc_key\"]"
   ]
  },
  {
   "cell_type": "code",
   "execution_count": 27,
   "metadata": {},
   "outputs": [
    {
     "data": {
      "text/plain": [
       "[[[7, 7], [2, 4]], [[12, 15], [9, 9], [1, 4]]]"
      ]
     },
     "execution_count": 27,
     "metadata": {},
     "output_type": "execute_result"
    }
   ],
   "source": [
    "gold_clusters[0]"
   ]
  },
  {
   "cell_type": "code",
   "execution_count": 28,
   "metadata": {},
   "outputs": [],
   "source": [
    "import json\n",
    "with open (\"/home/poomphob/Desktop/Thesis/s2e_coref/data/01_10_2023_doccano/val_tokens.jsonl\", \"r\") as f:\n",
    "    data = {i: json.loads(line) for i, line in enumerate(f)}"
   ]
  },
  {
   "cell_type": "code",
   "execution_count": 29,
   "metadata": {},
   "outputs": [
    {
     "name": "stdout",
     "output_type": "stream",
     "text": [
      "full text:  ลูกแม่ซาร่า มาแล้ว ตั้งชื่อว่า น้องไอร่า\n",
      "Gold cluster:  [['', 'แม่ซาร่า'], ['น้องไอร่า', '', 'ลูก แม่ซาร่า']]\n",
      "Pred cluster:  [['แม่ซาร่า', ''], ['ลูก แม่ซาร่า', '']]\n",
      "====================================\n",
      "full text:  จ๊ะ อาร์สยาม เข้าให้ปากคำ ดีเอสไอ คดีแชร์แม่มณี ในฐานะพยาน\n",
      "Gold cluster:  [['จ๊ะ อาร์สยาม'], ['ดีเอสไอ'], ['แม่มณี']]\n",
      "Pred cluster:  []\n",
      "====================================\n",
      "full text:  หนุ่มเทคนิคทำปืนลั่นใส่เพื่อนตายกลางถนน ส่วนตัวเองเจ็บนิ้วหวิดขาด\n",
      "Gold cluster:  [['หนุ่มเทคนิค', 'ตัวเอง'], ['เพื่อน']]\n",
      "Pred cluster:  [['หนุ่มเทคนิค', 'ตัวเอง']]\n",
      "====================================\n",
      "full text:  สตีฟ บัลเมอร์ รับ ผมเป็นสัญลักษณ์ของไมโครซอฟท์ยุคเก่า และถึงเวลาต้องไป\n",
      "Gold cluster:  [['สตีฟ บัลเมอร์', '', 'ผม'], ['ไมโครซอฟท์']]\n",
      "Pred cluster:  [['สตีฟ บัลเมอร์', 'ผม', '']]\n",
      "====================================\n",
      "full text:  สาว 17 ซิ่งเบนซ์หรูแหกโค้ง พุ่งทะลุบ้าน พังยับ คนขับบาดเจ็บเล็กน้อย\n",
      "Gold cluster:  [['คนขับ', 'สาว 17']]\n",
      "Pred cluster:  [['สาว 17', '', '', 'คนขับ']]\n",
      "====================================\n",
      "full text:  Jon Rubinstein ซีอีโอของ Palm บอก ผมไม่เคยใช้ iPhone\n",
      "Gold cluster:  [['<unk>on <unk>ubinstein', 'ผม'], ['<unk>alm']]\n",
      "Pred cluster:  [['<unk>on <unk>ubinstein', 'ผม']]\n",
      "====================================\n",
      "full text:  เอ ศุภชัย โพสต์คลิปครบรอบ 1 ปี กับ แตงโม นิดา และข้อความถึงน้องรักที่จากไป\n",
      "Gold cluster:  [['น้องรัก', 'แตงโม นิดา'], ['เอ ศุภชัย']]\n",
      "Pred cluster:  [['แตงโม นิดา', 'น้องรัก']]\n",
      "====================================\n",
      "full text:  ตร.ล้อมจับกุมตัวไอ้แม็ค ผัวโหดฆ่าเมียเสียชีวิต พร้อมอาวุธปืนก่อเหตุ ขณะหลบหนีซ่อนตัวในรีสอร์ต\n",
      "Gold cluster:  [['ผัว', '', 'ไอ้แม็ค'], ['ตร.'], ['เมีย']]\n",
      "Pred cluster:  [['ไอ้แม็ค', 'ผัว', '']]\n",
      "====================================\n",
      "full text:  ภารกิจสุดท้ายในชีวิตผม คือ การตอบแทนบุญคุณแผ่นดิน พล.อ. ประวิตร วงษ์สุวรรณ ในการปราศรัยใหญ่ครั้งสุดท้ายของ พปชร.\n",
      "Gold cluster:  [['ผม', 'พล.อ. ประวิตร วงษ์สุวรรณ'], ['พปชร.']]\n",
      "Pred cluster:  []\n",
      "====================================\n",
      "full text:  Ma ยังมีเดินทางไปต่างประเทศบ้าง โดยไปอเมริกาและอิสราเอลบ่อยๆ และก่อนหน้านี้เคยมีคนเห็นเขาปรากฏตัวที่สเปนและเนเธอร์แลนด์ด้วย\n",
      "Gold cluster:  [['<unk>a', 'เขา', '']]\n",
      "Pred cluster:  [['<unk>a', '', 'เขา']]\n",
      "====================================\n",
      "full text:  ชายเมาขับกระบะชนเสาหลักกิโล นอนหลับคารถ ตร.ปลุกกลับโวยวายใส่ ถามผมทำอะไรผิด\n",
      "Gold cluster:  [['ผม', '', 'ชาย', '', ''], ['ตร.', '', '']]\n",
      "Pred cluster:  [['ชาย', '', '', '', 'ผม']]\n",
      "====================================\n",
      "full text:  หนุ่ม ปวส. เดินดูน้ำท่วมเมืองปัตตานี พลัดตกท่อระบายน้ำ เจ้าหน้าที่ระดมค้นหานานกว่า 20 ชั่วโมง ยังไม่พบตัว\n",
      "Gold cluster:  [['', 'หนุ่ม ปวส.'], ['', 'เจ้าหน้าที่']]\n",
      "Pred cluster:  [['หนุ่ม ปวส.', '', '']]\n",
      "====================================\n",
      "full text:  ศาลรัฐบาลทหารเมียนมาพิพากษาจำคุกนางออง ซาน ซู จี เพิ่มอีก 7 ปี ทำให้เธอได้รับโทษจำคุกรวมกันทั้งสิ้น 33 ปี\n",
      "Gold cluster:  [['นางออง ซาน ซู จี', 'เธอ'], ['ศาลรัฐบาลทหารเมียนมา', '']]\n",
      "Pred cluster:  [['นางออง ซาน ซู จี', 'เธอ']]\n",
      "====================================\n",
      "full text:  เจ้าชายแฮร์รี ดยุกแห่งซัสเซกซ์ ทรงปรากฎพระองค์ในงานสาธารณะครั้งแรก หลังจากการประกาศเรื่องพระองค์และพระชายาจะลดบทบาทในฐานะสมาชิกอาวุโสของราชวงศ์อังกฤษ เมื่อสัปดาห์ก่อน\n",
      "Gold cluster:  [['เจ้าชายแฮร์รี', 'พระองค์'], ['พระชายา'], ['พระองค์ และ พระชายา']]\n",
      "Pred cluster:  [['เจ้าชายแฮร์รี ดยุกแห่งซัสเซกซ์', 'พระองค์', 'พระชายา']]\n",
      "====================================\n",
      "full text:  ผู้บุกเบิกเทคโนโลยีเอไอ ได้ลาออกจากกูเกิลแล้ว โดยยอมรับว่า เสียใจ ต่องานที่เขาได้ทำมา พร้อมระบุว่า เอไอ แชทบอท เป็นอันตราย และ น่ากลัว\n",
      "Gold cluster:  [['ผู้บุกเบิกเทคโนโลยีเอไอ', 'เขา']]\n",
      "Pred cluster:  [['ผู้บุกเบิกเทคโนโลยีเอไอ', '', 'เขา', '']]\n",
      "====================================\n",
      "full text:  สาวแค้นโดนบอกเลิก ขับรถเบนซ์หรูของแฟนหนุ่มลงสระ เผยปมเหตุขอเงินทำธุรกิจแต่ผู้ชายไม่ให้ #ต่างประเทศ #เรื่องเล่าเช้านี้\n",
      "Gold cluster:  [['', 'สาว', '', '', ''], ['ผู้ชาย', 'แฟนหนุ่ม']]\n",
      "Pred cluster:  [['สาว', '', 'โดนบอกเลิก ', '', ''], ['แฟนหนุ่ม', '', 'ผู้ชาย']]\n",
      "====================================\n",
      "full text:  Tim Bray ทำงานกับ AWS ตั้งแต่ปี 2014 จนถึงปี 2020 เขาลาออกประท้วงการจัดการแรงงานของ Amazon ในช่วง COVID-19\n",
      "Gold cluster:  [['<unk>im <unk>ray', 'เขา'], ['<unk>', '<unk>mazon']]\n",
      "Pred cluster:  [['<unk>im <unk>ray', 'เขา']]\n",
      "====================================\n",
      "full text:  แทยัง BIGBANG เล่าเบื้องหลังเพลงฮิต Eyes, Nose, Lips บทเพลงที่มีความหมายต่อความสัมพันธ์ของเขากับภรรยา มินฮโยริน\n",
      "Gold cluster:  [['แทยัง <unk>', 'เขา'], ['ภรรยา มินฮโยริน'], ['เขา กับ ภรรยา มินฮโยริน']]\n",
      "Pred cluster:  [['แทยัง', 'เขา']]\n",
      "====================================\n",
      "full text:  บิ๊กตู่ ลุยสงขลาอ้อนขอคะแนนเสียง พร้อมเรียกแทนตัวเอง พี่ตู่ ขอดูแลต่อได้ไหม? ด้านชาวบ้านแห่ต้อนรับสุดคึกคัก กรี๊ดรุมถ่ายรูป มอบดอกกุหลาบ\n",
      "Gold cluster:  [['ตัวเอง', 'บิ๊กตู่', '', 'พี่ตู่'], ['ชาวบ้าน', '', '']]\n",
      "Pred cluster:  [['บิ๊กตู่', 'ตัวเอง', 'พี่ตู่', ''], ['ชาวบ้าน', '']]\n",
      "====================================\n",
      "full text:  อัยการสูงสุดชี้ขาดสั่งฟ้อง ม.116 ธนาธร-ปิยบุตร-พรรณิการ์  ด้านธนาธรยืนยันพร้อมต่อสู้คดีในชั้นศาล  ย้ำจะทำงานอย่างเต็มที่ไม่มีอะไรมาหยุดยั้งได้\n",
      "Gold cluster:  [['', 'ธนาธร', 'ธนาธร'], ['อัยการสูงสุด', ''], ['ปิยบุตร'], ['พรรณิการ์'], ['ธนาธร - ปิยบุตร - พรรณิการ์']]\n",
      "Pred cluster:  [['ธนาธร', 'ธนาธร', '']]\n",
      "====================================\n",
      "full text:  นิวตันเคยทำอะไรเพี้ยน ๆ แบบไร้เหตุผลมาหลายครั้ง ไม่ว่าจะเป็นเรื่องที่เขาขู่เผาบ้านแม่ หรือนำเข็มมาทดลองจิ้มลูกตาของตัวเองเสียอย่างนั้น\n",
      "Gold cluster:  [['เขา', '', 'ตัวเอง', 'นิวตัน'], ['แม่']]\n",
      "Pred cluster:  [['นิวตัน', 'เขา', '', 'ตัวเอง']]\n",
      "====================================\n",
      "full text:  อีลอน มัสก์ เจ้าของทวิตเตอร์ ยืนยันเมื่อค่ำวานนี้ว่า เขาจะลาออกจากตำแหน่งซีอีโอของทวิตเตอร์ ก็ต่อเมื่อเขาสรรหาผู้ที่ไม่มีสมองมารับตำแหน่งสืบต่อจากเขาได้ก่อน\n",
      "Gold cluster:  [['เขา', 'เขา', 'เขา', 'อีลอน มัสก์', 'ซีอีโอของ ทวิตเตอร์'], ['ทวิตเตอร์', 'ทวิตเตอร์']]\n",
      "Pred cluster:  [['อีลอน มัสก์', 'เขา', 'เขา', 'เขา'], ['ทวิตเตอร์', 'ทวิตเตอร์']]\n",
      "====================================\n",
      "full text:  Keighley บอกว่า ผมไม่ได้พูดถึงเรื่องนี้มากนัก แต่มันเป็นช่วงเวลาที่ลำบากจริง ๆ เพราะเขา (โคจิม่า) ต้องพบเจออะไรหลาย ๆ อย่าง ในปีที่ผ่านมา\n",
      "Gold cluster:  [['<unk>eighley', 'ผม'], ['เขา', 'โคจิม่า']]\n",
      "Pred cluster:  [['<unk>eighley', 'ผม', 'เขา', 'เขา ( โคจิม่า', 'โคจิม่า']]\n",
      "====================================\n",
      "full text:  หนุ่มสาวคนในคลิปขอโทษ แต่งตัวล้อขอทานงานวันเกิด หลังโซเชียลวิจารณ์ยับ ยัน ไม่มีเจตนาล้อเลียน ตนเองก็เป็นคนหาเช้ากินค่ำเช่นกัน แค่เล่นสนุกๆ ในกลุ่มเท่านั้น\n",
      "Gold cluster:  [['ตนเอง', '', '', '', 'หนุ่มสาว', ''], ['ขอทาน']]\n",
      "Pred cluster:  [['หนุ่มสาว', '', '', '', '']]\n",
      "====================================\n",
      "full text:  เจ้าของร้านชำวัย 46 ปี แขนไปโดนของสงวนสาวขณะเติมน้ำมันรถจักรยานยนต์โดยไม่ได้ตั้งใจ ถูกแฟนหนุ่มของสาวคนดังกล่าวควงไม้ฟาดหัวแตก\n",
      "Gold cluster:  [['เจ้าของร้านชํา', '', '', '', ''], ['สาว', 'สาว'], ['แฟนหนุ่ม']]\n",
      "Pred cluster:  [['เจ้าของร้านชํา', '', '', '', ''], ['สาว', 'สาว']]\n",
      "====================================\n",
      "full text:  Phil Schiller ผู้บริหารของ Apple ที่ดูแลเรื่องการจัดงานและ App Store ปิดการใช้งานบัญชี Twitter ของตนเองแล้ว\n",
      "Gold cluster:  [['<unk>hil <unk>chiller', 'ตนเอง'], ['<unk>pple']]\n",
      "Pred cluster:  [['<unk>hil <unk>chiller', 'ตนเอง']]\n",
      "====================================\n",
      "full text:  หนุ่มขี่จยย.ข้ามจังหวัด ตามหาแฟน หลังติดต่อไม่ได้ สุดท้ายเจออยู่กับผู้ชาย ร่ำไห้โฮ ทำไมไม่ซื่อสัตย์ ทั้งที่ดูแลอย่างดี ให้เดือนละหมื่น ยอมให้ตัวเองลำบาก\n",
      "Gold cluster:  [['', '', 'หนุ่มขี่จยย.', '', '', 'ตัวเอง', '', ''], ['แฟน', '', '', '']]\n",
      "Pred cluster:  [['แฟน', '', '', ''], ['หนุ่มขี่จยย.', '', '', '', 'ตัวเอง']]\n",
      "====================================\n",
      "full text:  บิ๊กแดง สั่งจัดระเบียบกองทัพ-ลุยเปิดศูนย์ให้กำลังพลร้องเรียน 17ก.พ.นี้ ยอมรับเสียงวิจารณ์แถลงปม กราดยิงโคราช พร้อมน้ำตา เผย ผมเป็นคนอ่อนไหวกับเรื่องละเอียดอ่อน\n",
      "Gold cluster:  [['บิ๊กแดง', '', 'ผม']]\n",
      "Pred cluster:  [['บิ๊กแดง', '', 'ผม']]\n",
      "====================================\n",
      "full text:  เปิดใจเพื่อนสนิทแอม เผยเคยถูกชวนปล่อยเงินกู้ แต่ปฏิเสธไป ก่อนกลายเป็นข่าวดัง ส่วนเรื่องการใช้เงิน แอมเป็นคนใช้เงินเยอะ แต่ตนคิดว่าเขามีเงินหมุน ทำธุรกิจหลายอย่าง\n",
      "Gold cluster:  [['แอม', 'แอม', '', '', '', 'เขา'], ['เพื่อนสนิท แอม', 'ตน', '']]\n",
      "Pred cluster:  [['แอม', '', '', '', 'แอม', 'เขา', '']]\n",
      "====================================\n",
      "full text:  ประธานาธิบดีโจ ไบเดน ของสหรัฐฯ กล่าวหาประธานาธิบดีวลาดิเมียร์ ปูติน ผู้นำรัสเซียเป็นครั้งแรกว่า ลงมือฆ่าล้างเผ่าพันธุ์ชาวยูเครน หลังจากได้กล่าวหาว่านายปูตินเป็นอาชญากรสงครามมาแล้ว\n",
      "Gold cluster:  [['', 'ประธานาธิบดีวลาดิเมียร์ ปูติน', 'นายปูติน'], ['', 'ประธานาธิบดีโจ ไบเดน']]\n",
      "Pred cluster:  [['ประธานาธิบดีวลาดิเมียร์ ปูติน', '', 'นายปูติน'], ['ประธานาธิบดีโจ ไบเดน ของสหรัฐฯ', '']]\n",
      "====================================\n",
      "full text:  นักเรียนในคลิป #อาม่าตบเด็ก เล่าเหตุการณ์ เผยรู้สึกผิด ขอโทษอาม่าแล้ว หากย้อนเวลาได้จะไม่ทำ ด้าน รร.ยันไม่ได้สั่งลงโทษเด็ก #เรื่องเล่าเสาร์อาทิตย์\n",
      "Gold cluster:  [['', '', '', 'เด็ก'], ['', 'รร.'], ['เด็ก', 'นักเรียน', '', ''], ['อาม่า', 'อาม่า']]\n",
      "Pred cluster:  [['อาม่า', '', '', 'อาม่า', '', ''], ['รร.', '']]\n",
      "====================================\n",
      "full text:  อุ๊งอิ๊งโพสต์ สามีพาลูกสาว ไปสิงคโปร์ ตาโทนี่ รอพบ พาข้ามถนน อุ้มนั่งตัก ด้านยายปู ใจดีจัดให้หลาน ซื้อของขวัญให้อีกด้วย บรรยากาศสุดอบอุ่น\n",
      "Gold cluster:  [['', 'หลาน', 'ลูกสาว'], ['', 'ยายปู'], ['อุ๊งอิ๊ง'], ['สามี'], ['ตาโทนี่']]\n",
      "Pred cluster:  [['ลูกสาว', '', 'หลาน', ''], ['ตาโทนี่', ''], ['สามี', 'ยายปู', '']]\n",
      "====================================\n",
      "full text:  ตู่ ปราศรัย กทม.ครั้งแรกเย็นนี้ เปิดตัวผู้สมัคร ส.ส. 33 เขตเลือกตั้ง รทสช.ปล่อยเพลงใหม่ ลุงตู่อยู่ไหน เวอร์ชั่น 2 สร้างกระแสไวรัลบนโลกออนไลน์\n",
      "Gold cluster:  [['ลุงตู่', 'ตู่']]\n",
      "Pred cluster:  []\n",
      "====================================\n",
      "full text:  ข้าไม่มีศิษย์เอก ไม่มีคนโปรด ข้ารักศิษย์ทุกคนเหมือนกันหมด ข้าอยู่กับทุกคนและช่วยเหลือเหมือนกัน อยู่ที่ใครจะเข้าถึงข้าได้หรือไม่ หมั่นภาวนาเข้าไว้ - หลวงปู่ดู่ พฺรหฺมปัญโญ\n",
      "Gold cluster:  [['', 'ข้า', 'ข้า', 'ข้า', 'ข้า', 'หลวงปู่ดู่ พฺรหฺมปัญโญ']]\n",
      "Pred cluster:  [['ข้า', '', 'ข้า', 'ข้า', 'ข้า']]\n",
      "====================================\n",
      "full text:  วีระ สมความคิด ปะทะคารมกับ ปารีณา หลังมาตามคดีปารีณาบุกรุกป่าที่สำนักงานอัยการภาค 7 ด้านปารีณาร้องให้ตามคดีแม่นายธนาธร-ฟาร์มหมูส.ส.พลังประชารัฐ\n",
      "Gold cluster:  [['วีระ', '', ''], ['ปารีณา', 'ปารีณา', 'ปารีณา'], ['แม่ นายธนาธร'], ['นายธนาธร'], ['พลังประชารัฐ']]\n",
      "Pred cluster:  [['ปารีณา', '', 'ปารีณา', 'ปารีณา', '']]\n",
      "====================================\n",
      "full text:  David Marcus หัวหน้าทีมส่วนธุรกิจเงินคริปโตของ Meta บริษัทแม่ Facebook ประกาศว่าเขาจะลาออกจากบริษัทสิ้นปีนี้ โดยไม่ได้บอกชัดเจนว่าจะไปทำอะไร แต่น่าจะกลับไปเริ่มต้นในฐานะผู้ประกอบการอีกครั้ง\n",
      "Gold cluster:  [['<unk>avid <unk>arcus', '', '', 'เขา'], ['<unk>acebook', 'บริษัท'], ['<unk>eta']]\n",
      "Pred cluster:  [['<unk>avid <unk>arcus', 'เขา', '', ''], ['<unk>eta', 'บริษัท']]\n",
      "====================================\n",
      "full text:  อี ชัง-ซ็อบ หรือที่รู้จักกันดีในชื่อ ชังซ็อบ (Changsub) เป็นนักร้อง, นักแสดงละครเพลง และนักแสดงชาวเกาหลีใต้ เขาเป็นนักร้องนำของวงบอยแบนด์เกาหลีใต้ชื่อ บีทูบี\n",
      "Gold cluster:  [['ชังซ็อบ', '<unk>hangsub', 'เขา', 'อี ชัง-ซ็อบ'], ['บีทูบี']]\n",
      "Pred cluster:  [['อี ชัง-ซ็อบ', 'ชังซ็อบ ( <unk>hangsub', '<unk>hangsub', 'เขา']]\n",
      "====================================\n",
      "full text:  Musk บอกว่าสิ่งที่เขาทำอยู่กับ Twitter ตอนนี้คือการเปลี่ยนแปลงครั้งใหญ่ในช่วงหลังซื้อกิจการ เพื่อปรับโครงสร้างองค์กรใหม่ เมื่อเสร็จแล้ว เขาจะลดเวลาที่ใช้กับ Twitter ลง และหาคนอื่นมาบริหารแทน\n",
      "Gold cluster:  [['เขา', 'เขา', '<unk>usk'], ['กิจการ', '<unk>witter', '<unk>witter']]\n",
      "Pred cluster:  [['<unk>usk', 'เขา', 'เขา'], ['<unk>witter', '<unk>witter']]\n",
      "====================================\n",
      "full text:  ทิม คุก ซีอีโอแอปเปิลเป็นสมาชิกคณะกรรมการ Tsinghua University School of Economics and Management (SEM) มาตั้งแต่ปี 2013 ล่าสุดเขาได้นั่งเป็นประธานคณะกรรมการแล้ว\n",
      "Gold cluster:  [['เขา', 'ทิม คุก'], ['แอปเปิล']]\n",
      "Pred cluster:  [['ทิม คุก', 'เขา']]\n",
      "====================================\n",
      "full text:  Duncan Hunter ส.ส.พรรครีพับลิกัน ได้เคยออกมายอมรับต่อศาลว่า นำเงินหาเสียงมาใช้จ่ายส่วนตัวรวมถึงซื้อเกม Steam เป็นจำนวนเงินกว่า $250,000 เมื่อปีที่แล้ว โดยเค้าได้ถูกจำคุกเป็นเวลา 11 เดือนหลังจากนั้น\n",
      "Gold cluster:  [['<unk>uncan <unk>unter', 'เค้า', '', '']]\n",
      "Pred cluster:  [['<unk>uncan <unk>unter', '', '', 'เค้า']]\n",
      "====================================\n",
      "full text:  สลดใจ! ผัวหึงจับได้เมียแชตไลน์คุยกิ๊ก นั่งดื่มเบียร์ย้อมใจรอเมียหลับ เปิดโทรศัพท์ดูแชตทนไม่ไหว ลงมือบีบคอเมียสิ้นใจ ก่อนโทรแจ้งพี่สาว และรอมอบตัวตำรวจ\n",
      "Gold cluster:  [['', 'ผัว', '', '', '', '', '', ''], ['เมีย', 'เมีย', 'เมีย'], ['กิ๊ก'], ['พี่สาว'], ['ตํารวจ']]\n",
      "Pred cluster:  [['ผัว', '', '', '', '', '', ''], ['กิ๊ก', 'เมีย', 'เมีย'], ['พี่สาว', '']]\n",
      "====================================\n",
      "full text:  ชายวัย 83 ปีโมโหถูกต่อว่า คว้าขวานฟันชายวัย 67 ปีเสียชีวิตก่อนยืนรอมอบตัว คาดชนวนเหตุเกิดจากผู้ก่อเหตุตัดไผ่ของเพื่อนบ้านจนหมดกอ ไม่เหลือแบ่งให้ผู้เสียชีวิตตัดบ้าง จึงทะเลาะกัน\n",
      "Gold cluster:  [['', '', 'ผู้ก่อเหตุ', 'ชายวัย 83 ปี', ''], ['', 'ชายวัย 67 ปี', 'ผู้เสียชีวิต'], [''], [''], ['เพื่อนบ้าน']]\n",
      "Pred cluster:  [['ชายวัย 83 ปี', '', '', '', ''], ['ชายวัย 67 ปี', 'ผู้ก่อเหตุ', '', 'ผู้เสียชีวิต']]\n",
      "====================================\n",
      "full text:  ชายชาวบุรีรัมย์ ร้องสื่อ เข้าไปเกี่ยวข้าวที่นาตัวเองไม่ได้ น้องสะใภ้ปักป้ายห้ามเข้า ต้องจ่าย 5 พัน เป็นค่าละเมิดถึงจะยอมให้เข้าไปเกี่ยว เคยฟ้องศาลตัดสินชัดที่ดินตัวเอง แต่น้องสะใภ้ ยังอ้างศาลตัดสินผิด\n",
      "Gold cluster:  [['', '', 'ตัวเอง', '', '', 'ตัวเอง', 'ชายชาวบุรีรัมย์'], ['', 'น้องสะใภ้', 'น้องสะใภ้'], ['ศาล', 'ศาล']]\n",
      "Pred cluster:  [['ชายชาวบุรีรัมย์', '', 'ตัวเอง', '', '', 'ตัวเอง', 'น้องสะใภ้'], ['น้องสะใภ้', ''], ['ศาล', 'ศาล']]\n",
      "====================================\n",
      "full text:  เจ้าหญิงวิกตอเรียแห่งสหราชอาณาจักรประสบปัญหาเรื่องพระพลานามัยเป็นอย่างมากทั้งมีปัญหาเรื่องระบบประสาท ไมเกรน ซึมเศร้า และอีกหลายโรค โดยพระองค์สิ้นพระชนม์เมื่อวันที่ 3 ธันวาคม ค.ศ. 1935 พระชันษา 67 ปี โดยหลังจากนั้น\n",
      "Gold cluster:  [['พระองค์', 'เจ้าหญิงวิกตอเรีย']]\n",
      "Pred cluster:  [['เจ้าหญิงวิกตอเรีย', 'พระองค์']]\n",
      "====================================\n",
      "full text:  เกตส์เขียนรำลึกถึงอัลเลนในบล็อกส่วนตัวของเขา โดยเล่าความหลังว่าเขารู้จักอัลเลนตั้งแต่เรียนเกรด 7 ซึ่งอัลเลนแก่กว่าเขาสองปี และเป็นอัจฉริยะด้านคอมพิวเตอร์มาตั้งแต่ตอนนั้น ทำให้ทั้งสองคนสนิทกันอย่างรวดเร็ว และใช้เวลาด้วยกันเสมอ\n",
      "Gold cluster:  [['ทั้งสองคน', 'เขา', '', 'เขา', '', 'เขา', 'เกตส์'], ['ทั้งสองคน', ''], ['อัลเลน', '', 'อัลเลน', 'อัลเลน']]\n",
      "Pred cluster:  [['เกตส์', 'เขา', '', 'เขา', 'เขา'], ['อัลเลน', 'อัลเลน', 'อัลเลน', '', 'ทั้งสองคน', '']]\n",
      "====================================\n",
      "full text:  ตนขอยืนยันว่า นายมิ่งขวัญ ยังอยู่ช่วยทำงานในพรรคพลังประชารัฐ เพราะเมื่อสัปดาห์ที่ผ่านมา ก็เพิ่งได้รับมอบหมายงานจากพลเอก ประวิตร วงษ์สุวรรณ รองนายกรัฐมนตรี และ หัวหน้าพรรคพลังประชารัฐ ไปทำอยู่เลย และเมื่อวานนี้ ตนก็ยังได้พบปะพูดคุยกับนายมิ่งขวัญเป็นปกติ นายวิรัช กล่าว\n",
      "Gold cluster:  [['นายมิ่งขวัญ', 'นายมิ่งขวัญ', ''], ['ตน', 'นายวิรัช', 'ตน'], ['พรรคพลังประชารัฐ'], ['พลเอก ประวิตร วงษ์สุวรรณ'], ['หัวหน้า พรรคพลังประชารัฐ'], ['พรรคพลังประชารัฐ']]\n",
      "Pred cluster:  [['นายมิ่งขวัญ', ''], ['พรรคพลังประชารัฐ', 'หัวหน้า พรรคพลังประชารัฐ', 'พรรคพลังประชารัฐ'], ['ตน', 'ตน', 'นายวิรัช'], ['พลเอก ประวิตร วงษ์สุวรรณ', 'นายมิ่งขวัญ']]\n",
      "====================================\n",
      "full text:  ใครจะรับได้! เจ้าของไซบีเรียนใจสลาย โพสต์คลิปเตือนอุทาหรณ์ ร้านตัดแต่งขนทำรุนแรง เผยทั้งตบ ตี กระชากขน และใช้เข่าทับสุนัขตัวโปรด ลั่นรับไม่ได้เห็นแล้วสุดสงสาร ร้านอ้างหมาดื้อและชอบกัด_\n",
      "Gold cluster:  [['', '', 'เจ้าของไซบีเรียน', '', ''], ['', '', '', 'ร้านตัดแต่ง', '', 'ร้าน'], ['']]\n",
      "Pred cluster:  [['เจ้าของไซบีเรียน', '', '', '', '', '', '', '', '', 'ร้าน']]\n",
      "====================================\n",
      "full text:  เป็นที่ทราบกันดีว่า Mark Zuckerberg กำลังสร้างระบบ AI ควบคุมบ้านของตัวเองที่เขาเรียกว่า Jarvis (เหมือนใน Iron Man) ล่าสุดเขาออกมาเผยความคืบหน้าและเบื้องหลังโครงสร้างของ Jarvis ให้ทราบกันแล้ว\n",
      "Gold cluster:  [['เขา', '<unk>ark <unk>uckerberg', 'ตัวเอง', 'เขา']]\n",
      "Pred cluster:  [['<unk>ark <unk>uckerberg', 'ตัวเอง', 'เขา', 'เขา', '<unk>arvis']]\n",
      "====================================\n",
      "full text:  แล้วพ่อแม่พี่น้องประชาชน ตลอดจนคุณสโรชาด้วยจำเอาไว้..... วันไหนในอนาคต ตราบจนกระทั่งผมตาย ถ้าผมไปรับตำแหน่งอะไรทางการเมือง แล้วถ้าผมไม่ใช่สื่อมวลชนของท่านต่อไป เจอหน้าที่ไหน ถุยน้ำลายใส่หน้าผม ถอดรองเท้าตบหน้าผมได้ทันที - สนธิ ลิ้มทองกุล\n",
      "Gold cluster:  [['ผม', 'ผม', 'คุณสโรชา', '', 'ผม', 'สนธิ ลิ้มทองกุล', 'ผม', 'ผม']]\n",
      "Pred cluster:  [['คุณสโรชา', 'ผม', 'ผม', 'ผม', '', 'ผม', 'ผม ถอดรองเท้าตบหน้า ผม', 'ผม'], ['', '']]\n",
      "====================================\n",
      "full text:  พ่อเล่าบทสนทนาสุดท้ายกับลูกชาย ที่เป็นพลทหาร #นาวิกโยธิน ก่อนเรือล่มลูกโทรฯ มา เรือกำลังจม ผมอยู่หัวเรือ ผมจะทำยังไง จะทำยังไง..พ่อ ก่อนที่ทุกอย่างจะเงียบไป จนวันนี้หวังได้เพียงให้ลูกชายยังมีชีวิตอยู่ #เรือหลวงสุโขทัย #กองทัพเรือ\n",
      "Gold cluster:  [['พ่อ', 'พ่อ', ''], ['ลูกชาย', 'ผม', 'ลูกชาย', 'ลูก', 'ผม'], ['']]\n",
      "Pred cluster:  [['ลูกชาย', 'ลูก', 'ผม', 'ลูกชาย'], ['พ่อ', 'ผม', '', '']]\n",
      "====================================\n",
      "full text:  ประยุทธ์ ลุยหาเสียงตลาดศรีบุญเรือง ขอบคุณไมตรีชาวเชียงใหม่ ทำให้มีกำลังใจทำงานต่อ ให้ข้อคิดอย่าสร้างบ้านหลังใหม่โดยรื้อบ้านหลังเก่าทิ้งก่อนบ้านใหม่สร้างเสร็จ จะไม่มีที่อยู่ อ้อนเลือกเบอร์ซาวสอง ลุงตู่ อยู่  รทสช.พรรคเดียว ชี้ ทุกเสียงมีค่า ต้องเลือกให้ดี เพราะเป็นอนาคตประเทศ\n",
      "Gold cluster:  [['ลุงตู่', '', '', '', 'ประยุทธ์'], ['รทสช.']]\n",
      "Pred cluster:  [['ประยุทธ์', '', '', '', 'ลุงตู่', '']]\n",
      "====================================\n",
      "full text:  หลังจาก Marcus Hutchins หรือ MalwareTech ผู้ที่โด่งดังขึ้นมาจากการหยุดมัลแวร์ WannaCry ถูกจับกุมขณะกำลังขึ้นบินกลับอังกฤษ รายงานล่าสุดระบุว่าเขาได้รับอนุมัติประกันตัวโดยต้องวางหลักประกัน 30,000 ดอลลาร์ และห้ามออกนอกประเทศ โดยต้องติดเครื่องติดตามตัวไว้ด้วย\n",
      "Gold cluster:  [['', '', '', '<unk>arcus <unk>utchins', 'เขา'], ['<unk>alware<unk>ech']]\n",
      "Pred cluster:  [['<unk>arcus <unk>utchins', '<unk>alware<unk>ech', 'เขา', '', '', '']]\n",
      "====================================\n",
      "full text:  มาดามเดียร์ อดีตผู้จัดการทีมฟุตบอลทีมชาติไทย ชุดยู 23 เดินทางเข้าสมัครเป็นสมาชิกพรรคพลังประชารัฐ พร้อมอดีต ผอ.นิด้าโพล โดยมี สนธิรัตน์ สนธิจิรวงศ์ เลขาธิการพรรคให้การต้อนรับ พร้อมเผยตัดสินใจเข้าสู่การเมืองเพราะต้องการลงมือสร้างการเปลี่ยนแปลงด้วย ตัวเอง และผู้ใหญ่ในพรรคไม่ได้มาจากนักการเมือง แต่มีผลงานหลายๆ ด้านที่ชัดเจน\n",
      "Gold cluster:  [['ตัวเอง', '', 'มาดามเดียร์'], ['ผู้ใหญ่ในพรรค', 'สนธิรัตน์ สนธิจิรวงศ์'], ['อดีต ผอ.นิด้าโพล'], ['พรรคพลังประชารัฐ']]\n",
      "Pred cluster:  [['มาดามเดียร์', '', 'ตัวเอง']]\n",
      "====================================\n",
      "full text:  มาร์ค ต้วน จัดเต็มแบบตัวพ่อ ในคอนเสิร์ต Mark Tuan the Other Side Asia Tour 2023 วันแรก อากาเซ่ชาวไทยไม่น้อยหน้า ส่งเสียงกรี๊ดเชียร์สนั่นฮอลล์ ฟินสุด ยุคยอม GOT7 มาคอนเสิร์ตให้กำลังใจพี่มาร์ค\n",
      "Gold cluster:  [['พี่มาร์ค', '<unk>ark <unk>uan', 'มาร์ค ต้วน'], ['', '', 'อากาเซ่'], ['<unk>7'], ['ยุคยอม']]\n",
      "Pred cluster:  [['อากาเซ่', '', '']]\n",
      "====================================\n",
      "full text:  ไอน์สไตน์เดินทางไปนิวยอร์ก สหรัฐอเมริกา เป็นครั้งแรก เมื่อ 2 เมษายน พ.ศ. 2464 เมื่อมีผู้ถามว่า เขาได้แนวคิดทางวิทยาศาสตร์มาจากไหน ไอน์สไตน์อธิบายว่า เขาเชื่อว่างานทางวิทยาศาสตร์จะก้าวหน้าได้จากการทดลองทางกายภาพและการค้นหาความจริงที่ซ่อนเอาไว้ โดยมีคำอธิบายที่สอดคล้องกันได้ในทุกสภาวการณ์โดยไม่ขัดแย้งกันเอง ไอน์สไตน์ยังสนับสนุนทฤษฎีที่ค้นหาผลลัพธ์ในจินตนาการด้วย\n",
      "Gold cluster:  [['ไอน์สไตน์', 'ไอน์สไตน์', 'เขา', 'ไอน์สไตน์', 'เขา']]\n",
      "Pred cluster:  [['ไอน์สไตน์', 'เขา', 'ไอน์สไตน์', 'เขา', 'ไอน์สไตน์']]\n",
      "====================================\n",
      "full text:  แหล่งข่าวของ Financial Times บอกว่า Jack Ma และครอบครัวย้ายมาอยู่ญี่ปุ่น โดยไม่ได้ออกไปใช้ชีวิตสาธารณะมากนัก มีจ้างเชฟส่วนตัวและเจ้าหน้าที่ความปลอดภัย เขาหันไปสนใจเรื่องงานศิลปะ มีไปเที่ยวบ่อน้ำร้อนและรีสอร์ทสกีบ้าง รวมถึงมีกิจกรรมสังคมกับนักธุรกิจจีนคนอื่นๆ ผ่านคลับเอ็กซ์คลูซีฟในย่าน Ginza และ Marunouchi\n",
      "Gold cluster:  [['<unk>ack <unk>a', 'เขา'], ['<unk>inancial <unk>imes'], ['<unk>ack <unk>a และครอบครัว']]\n",
      "Pred cluster:  [['<unk>ack <unk>a', 'เขา']]\n",
      "====================================\n",
      "full text:  ฮันส์ อัลเบร็ชท์ เบเทอ (เยอรมัน: Hans Albrecht Bethe) เป็นนักฟิสิกส์นิวเคลียร์สัญชาติเยอรมัน-อเมริกัน เขาเป็นบุคคลสำคัญของวงการฟิสิกส์ดาราศาสตร์ พลศาสตร์ไฟฟ้าควอนตัม และฟิสิกส์ของแข็ง เขาได้รับรางวัลโนเบลสาขาฟิสิกส์ใน ค.ศ. 1967 จากผลงานทฤษฎีการสังเคราะห์นิวเคลียสของดาวฤกษ์\n",
      "Gold cluster:  [['เขา', '<unk>ans <unk>lbrecht <unk>ethe', 'ฮันส์ อัลเบร็ชท์ เบเทอ', 'เขา']]\n",
      "Pred cluster:  [['ฮันส์ อัลเบร็ชท์ เบเทอ', '<unk>ans <unk>lbrecht <unk>ethe', 'เขา', 'เขา']]\n",
      "====================================\n",
      "full text:  กรณีครอบครัวของ น.ส.ณัฏฐธิดา หรือน้องฟา อายุ 15 ปี นักเรียนโรงเรียนกีฬานครศรีธรรมราช นักกีฬายกน้ำหนักแชมป์ถ้วยพระราชทาน ซึ่งประสบอุบัติเหตุลูกเหล็กหล่นทับหลังเดาะ ประกาศขอความช่วยเหลือผ่านสื่อต้องการขอให้ผู้ที่มีเครื่องบิน ช่วยเคลื่อนย้ายบุตรสาว จากโรงพยาบาลทุ่งสง อ.ทุ่งสง จ.นครศรีธรรมราช มารับการผ่าตัดที่โรงพยาบาลพระมงกุฎเกล้า กรุงเทพมหานคร\n",
      "Gold cluster:  [['บุตรสาว', '', 'น.ส.ณัฏฐธิดา', 'น้องฟา'], ['ครอบครัวของ  น.ส.ณัฏฐธิดา', ''], ['โรงเรียนกีฬานครศรีธรรมราช'], ['โรงพยาบาลทุ่งสง'], ['โรงพยาบาลพระมงกุฎเกล้า']]\n",
      "Pred cluster:  [['น.ส.ณัฏฐธิดา', 'น้องฟา', '', '', 'บุตรสาว']]\n",
      "====================================\n",
      "full text:  ปลาแบล็คสวอลโล (อังกฤษ: Black swallower) เป็นสายพันธุ์ปลาทะเลลึกในตระกูล Chiasmodontidae เป็นที่รู้จักด้วยความสามารถของมันที่สามารถกลืนปลาที่มีขนาดใหญ่กว่าตัวเองได้ มันมีการแพร่กระจายไปทั่วโลกในเขตร้อนและเขตหุบเขาใต้ทะเลลึกภูเขาใต้ทะเลที่มีความลึก 700-2,745 เมตร (2,297-9,006 ฟุต) เป็นปลาทะเลลึกที่แพร่พันธุ์ได้แพร่หลายมาก\n",
      "Gold cluster:  []\n",
      "Pred cluster:  []\n",
      "====================================\n",
      "full text:  Ajay Bhatt ผู้คิดค้นและผู้นำทีมพัฒนาโปรโตคอล USB ที่ Intel ยอมรับว่าการต้องมาคอยเสียบ USB สลับด้านเพื่อให้เข้าได้ถูกต้องนั้นเป็นความน่ารำคาญ แต่ก็ปกป้องการตัดสินใจนี้ว่า ทีมพัฒนารู้ตั้งแต่แรกแล้วถึงปัญหานี้ แต่การจะให้ USB สามารถเสียบได้ทุกด้านหรือการทำเป็นวงกลมนั้น ต้องใช้สายไฟ แผงวงจร และต้นทุนที่มากขึ้น ดังนั้นทีมงานจึงตัดสินใจจบที่ทรงสี่เหลี่ยมเพื่อลดต้นทุนให้ได้มากที่สุด\n",
      "Gold cluster:  [['', '<unk>jay <unk>hatt'], ['<unk>ntel']]\n",
      "Pred cluster:  [['<unk>jay <unk>hatt', '']]\n",
      "====================================\n",
      "full text:  ฮาน่า ทัศนาวลัย เผย หนิง ปณิตา เคยมาปรึกษาปัญหาครอบครัว หลังประกาศหย่ากับสามี จิน โดยล่าสุดวันนี้ฮาน่า ได้ออกมาให้สัมภาษณ์สื่อถึงเรื่องนี้เอาไว้ว่า หนิง เคยบอกมีเครียดบ้าง แต่ทางฮาน่าก็ ตอบกลับว่า พี่หนิงรับมือได้อยู่แล้ว เรื่องที่ร้ายแรงกว่านี้ ก็ยังผ่านมาได้เลย ปกติให้กำลังใจกันตลอดเวลาอยู่แล้ว เป็นเพื่อนผู้หญิงด้วยกัน พอมีปัญหาก็มีปรึกษากันบ้าง\n",
      "Gold cluster:  [['', '', ''], ['พี่หนิง', 'หนิง ปณิตา', 'หนิง', '', '', ''], ['ฮาน่า ทัศนาวลัย', 'ฮาน่า', 'ฮาน่า'], ['สา มี', 'จิน']]\n",
      "Pred cluster:  [['หนิง ปณิตา', '', 'ฮาน่า', 'หนิง', 'ฮาน่า', 'ฮาน่า ก็', 'พี่หนิง', '', ''], ['ฮาน่า ทัศนาวลัย', '']]\n",
      "====================================\n",
      "full text:  สัปดาห์ที่ผ่านมา Timnit Gebru นักวิจัยด้านจริยธรรมปัญญาประดิษฐ์ (Ethical AI) ได้ออกมาเปิดเผยว่าเธอถูกไล่ออกจากกูเกิลหลังจากพยายามตีพิมพ์งานวิจัยใหม่แต่ถูกผู้บริหารกูเกิลสั่งให้ถอนงานวิจัยออก จนเธอยื่นคำขาดว่าหากไม่ได้ตีพิมพ์งานวิจัยชิ้นนี้เธอจะลาออกจากบริษัท หลังจากนั้นเธอได้รับอีเมลว่าบริษัทตอบรับการลาออกของเธอและเตรียมให้เธอคืนอุปกรณ์ของกูเกิลในภายหลัง และพนักงานกูเกิลจำนวนมากแสดงความไม่พอใจจนลงชื่อไม่เห็นด้วยต่อการเลิกจ้างครั้งนี้มากกว่า 1,500 คน\n",
      "Gold cluster:  [['เธอ', 'เธอ', '', 'เธอ', '<unk>imnit <unk>ebru', 'เธอ', '', '', 'เธอ', 'เธอ'], ['', 'บริษัท', 'กูเกิล', 'บริษัท', 'กูเกิล']]\n",
      "Pred cluster:  [['<unk>imnit <unk>ebru', 'เธอ', '', '', 'เธอ', 'เธอ ยื่นคําขาดว่าหากไม่ได้ตีพิมพ์งานวิจัยชิ้นนี้ เธอ', 'เธอ', 'เธอ', 'เธอ', 'เธอ'], ['กูเกิล', '', 'บริษัท', 'บริษัท', '', 'กูเกิล']]\n",
      "====================================\n",
      "full text:  สึโตมุ ยามางูจิ (ญี่ปุ่น: 山口 彊; โรมาจิ: Yamaguchi Tsutomu; 16 มีนาคม ค.ศ. 1916 – 4 มกราคม ค.ศ. 2010) เป็นวิศวกรทางทะเลชาวญี่ปุ่นและผู้รอดชีวิตจากการทิ้งระเบิดปรมาณูที่ฮิโรชิมะและนางาซากิในช่วงสงครามโลกครั้งที่สอง ถึงแม้ว่ามีผู้ที่ได้รับผลกระทบจากระเบิดทั้งสองเท่าที่รู้จักอย่างน้อย 70 คน เขาเป็นบุคคลเดียวที่รัฐบาลญี่ปุ่นยอมรับอย่างเป็นทางการว่าเป็นผู้รอดชีวิตจากระเบิดทั้งสอง\n",
      "Gold cluster:  [['<unk>amaguchi <unk>sutomu', 'สึโตมุ ยามางูจิ', '<unk> <unk>', 'เขา']]\n",
      "Pred cluster:  [['สึโตมุ ยามางูจิ', '<unk> <unk>', '<unk> <unk> ; โรมาจิ:  <unk>amaguchi <unk>sutomu', '<unk>amaguchi <unk>sutomu', 'เขา']]\n",
      "====================================\n",
      "full text:  Stephen Hawking จะตอบคำถามใน Reddit AMA วันนี้ Stephen Hawking เข้าร่วมโครงการ Reddit AMA ตอบคำถามถึงความเสี่ยงของปัญญาประดิษฐ์ (AI)  การถามตอบครั้งนี้จะยาวกว่าสัปดาห์ นับเป็น AMA ที่ยาวนานที่สุดในประวัติศาสตร์ของ Reddit เนื่องจากกระบวนการสื่อสารกับ Hawking จะต้องใช้เวลายาวนานกว่าปกติ  ก่อนหน้านี้ Hawking เคยแสดงความเห็นถึงปัญญาประดิษฐ์ว่า อาจจะเป็นความผิดพลาดที่ใหญ่หลวงที่สุดในประวัติศาสตร์มนุษยชาติ  กระทู้ถามตอบจะตั้งไว้ใน /r/science  ที่มา - Engadget\n",
      "Gold cluster:  [['<unk>tephen <unk>awking', '<unk>awking', '<unk>tephen <unk>awking', '<unk>awking']]\n",
      "Pred cluster:  [['<unk>tephen <unk>awking', '<unk>tephen <unk>awking', '', '<unk>awking', '<unk>awking']]\n",
      "====================================\n",
      "full text:  วันที่ 20 สิงหาคม 2560 พลเอก ปรีชา จันทร์โอชา อดีตปลัดกระทรวงกลาโหม และเป็นน้องชายของ พล.อ. ประยุทธ์ จันทร์โอชา นายกรัฐมนตรี กล่าวถึงกรณีที่มีกระแสข่าวว่า หมวดป้อง ร้อยตรี ปฏิพัทธ์ จันทร์โอชา ลูกชายคนเล็กได้ลาออกจากราชการทหารแล้วนั้นเป็นเรื่องจริง และได้ลาออกจากราชการทหารมานานหลายเดือนแล้ว เพราะอยากไปเรียนต่อด้านสาขานิเทศศาสตร์ ที่ประเทศอังกฤษ เพราะลูกชายจบปริญญาตรีด้านนี้มา และอยากไปเรียนภาษาด้วย  ส่วนกรณีที่มีหลายฝ่ายจับตามองจนกดดัน เพราะเป็นหลานชายของนายกรัฐมนตรีหรือไม่นั้น พลเอกปรีชา ระบุว่า ทุกอย่างก็เพื่อความสบายใจของเขาเอง ในเมื่อเขาอยากลาออก ก็ให้ลาออก\n",
      "Gold cluster:  [['', 'เขา', '', 'ลูกชาย', '', '', 'หมวดป้อง ร้อยตรี ปฏิพัทธ์ จันทร์โอชา'], ['นายกรัฐมนตรี', 'พล.อ. ประยุทธ์ จันทร์โอชา'], ['พลเอก ปรีชา จันทร์โอชา', '', 'พลเอกปรีชา'], ['เขา', '', 'เขา'], ['กระทรวงกลาโห']]\n",
      "Pred cluster:  [['พลเอก ปรีชา จันทร์โอชา', '', 'พลเอกปรีชา', 'เขา', 'เขา'], ['หมวดป้อง ร้อยตรี ปฏิพัทธ์ จันทร์โอชา', '', '', '', '', ''], ['พล.อ. ประยุทธ์ จันทร์โอชา', 'ลูกชาย', 'นายกรัฐมนตรี']]\n",
      "====================================\n",
      "full text:  เซมันเกิดในเมืองโซนเนอแมเรอ (Zonnemaire) ซึ่งเป็นเมืองขนาดเล็กที่อยู่บนเกาะสเคาเวิน-เดยเฟอลันด์ ประเทศเนเธอร์แลนด์ เขาเริ่มมีความสนใจในฟิสิกส์ตั้งแต่ยังเป็นเด็ก ๆ ในปี ค.ศ. 1883 เกิดปรากฏการณ์แสงออโรราเหนือที่สามารถมองเห็นได้ที่เนเธอร์แลนด์ โดยตอนนั้นเซมันเรียนอยู่ในระดับชั้นมัธยมศึกษาตอนปลายในเมืองซีริกเซ (Zierikzee) เขาได้วาดภาพและอธิบายถึงปรากฏการณ์ทางธรรมชาติ และได้มีผู้นำเอาไปเผยแพร่ชื่อ The careful observations of Professor Zeeman from his observatory in Zonnemaire\n",
      "Gold cluster:  [['เขา', 'เซมั', '', 'เซมัน', 'เขา']]\n",
      "Pred cluster:  [['เซมั', 'เขา', 'เซมัน', 'เขา', '']]\n",
      "====================================\n",
      "full text:  วันที่ 26 เมษายน 2565 นายเจฟฟ์ เบซอส ผู้ก่อตั้งและซีอีโอบริษัท แอมะซอน อีคอมเมิร์ซยักษ์ใหญ่ของสหรัฐ ได้ทวีตข้อความตั้งข้อสังเกตไม่นานหลังมีข่าวกรณีที่นายอีลอน มัสก์ ประกาศบรรลุข้อตกลงเพื่อซื้อกิจการด้วยวงเงินสูงถึง 4.4 หมื่นล้านดอลลาร์สหรัฐฯ มหาเศรษฐีเจ้าของแอมะซอนได้ทวีตหลายข้อความที่สร้างกระแสให้ผู้คนที่ติดตามเขาตั้งข้อสังเกตและให้ความสนใจต่อการเข้าซื้อธุรกิจทวิตเตอร์ของนายมัสก์ โดยเฉพาะประเด็นเรื่องเสรีภาพในการแสดงความคิดเห็นบนแพลตฟอร์ม ซึ่งอาจกลายเป็นความซับซ้อนสำหรับมัสก์ในการขยายธุรกิจรถยนต์ไฟฟ้าในประเทศจีน ความเห็นผมตอบได้เลยว่าจีนจะไม่ได้ประโยชน์จากเรื่องนี้ ผมมองว่าผลที่ตามมาไม่ใช่การที่จีนจะเซ็นเซอร์ทวิตเตอร์ แต่กลายเป็นว่าธุรกิจของเทสลาจะเผชิญกับความซับซ้อนในประเทศจีนในอนาคต นายเบซอส ระบุ\n",
      "Gold cluster:  [['แอมะซอน', 'บริษัท แอมะซอน'], ['นายเจฟฟ์ เบซอส', 'เขา', 'มหาเศรษฐีเจ้าของ แอมะซอน', 'ผม'], ['นายมัสก์', 'นายอีลอน มัสก์', 'มัสก์'], ['ผม', 'นายเบซอส', 'ผม'], ['ทวิตเตอร์', 'ทวิตเตอร์', ''], ['เทสลา']]\n",
      "Pred cluster:  [['นายเจฟฟ์ เบซอส', 'เขา', 'ผม', 'ผม', 'เทสลา จะเผชิญกับความซับซ้อนในประเทศจีนในอนาคต  นายเบซอส', 'นายเบซอส'], ['นายอีลอน มัสก์', 'มัสก์', 'เทสลา']]\n",
      "====================================\n",
      "full text:  เมื่อวันที่ 4 เมษายน พระบาทสมเด็จพระเจ้าอยู่หัว ทรงพระกรุณาโปรดเกล้าฯ ให้ส่งข้อความพระราชสาส์นแสดงความยินดีไปยังนายเจิ่น ด่าย กวาง ในโอกาสที่ได้รับเลือกตั้งให้ดำรงตำแหน่งประธานาธิบดีแห่งสาธารณรัฐสังคมนิยมเวียดนามคนใหม่ เมื่อวันที่ 2 เมษายน ความว่า  ฯพณฯ นายเจิ่น ด่าย กวาง ประธานาธิบดีแห่งสาธารณรัฐสังคมนิยมเวียดนาม กรุงฮานอย  ในโอกาสที่ท่านเข้าดำรงตำแหน่งประธานาธิบดีแห่งสาธารณรัฐสังคมนิยมเวียดนาม ข้าพเจ้ามีความยินดีเป็นอย่างยิ่งและขอส่งคำอำนวยพรและความปรารถนาดีอย่างจริงใจมา เพื่อท่านประสบความสำเร็จและความสุขสวัสดิ์ ทั้งเพื่อความผาสุกและความเจริญรุ่งเรืองยิ่งขึ้นของประเทศและประชาชนชาวเวียดนาม  ข้าพเจ้าเชื่อมั่นว่า ความสัมพันธ์ฉันมิตรและความร่วมมือที่มีอยู่ระหว่างประเทศและประชาชนของเราทั้งสอง จะมั่นคงและเพิ่มพูนยิ่งขึ้นต่อไปในภายภาคหน้า  (พระปรมาภิไธย) ภูมิพลอดุลยเดช ปร.\n",
      "Gold cluster:  [['นายเจิ่น ด่าย กวาง', 'ท่าน', 'ฯพณฯ นายเจิ่น ด่าย กวาง', '', 'ท่าน'], ['ข้าพเจ้า', 'ภูมิพลอดุลยเดช ปร.', '', 'ข้าพเจ้า', 'พระบาทสมเด็จพระเจ้าอยู่หัว ทรงพระกรุณาโปรดเกล้าฯ'], ['ประชาชนชาวเวียดนาม'], ['เราทั้งสอง']]\n",
      "Pred cluster:  [['นายเจิ่น ด่าย กวาง', '', 'ท่าน', 'ท่าน'], ['พระบาทสมเด็จพระเจ้าอยู่หัว', 'ข้าพเจ้า', '', 'ข้าพเจ้า']]\n",
      "====================================\n",
      "full text:  ชาวเน็ตและแฟนๆ แห่ส่งกำลังใจ หลังอ้อย จิระวดี ลูกสาวของ คุณยายมารศรี อิศรางกูร ณ อยุธยา วัย 102 ปี โพสต์ข้อความผ่านไอจีส่วนตัวว่าคุณแม่ถูกส่งตัวเข้าแอดมิทที่โรงพยาบาลเพราะอาการป่วยอีกครั้ง โดยระบุข้อความว่า วันนี้มาเยี่ยมคุณแม่ที่ รพ.ราชวิถี คุณแม่บอกว่า แม่ถูกทิ้ง เหงามาก โธ่แม่จ๋า รพ เค้ามีเวลาเยี่ยมเป็นเวลา หนูยังหาห้องเดี่ยวให้แม่ไม่ได้เลย คุณหมอบอกห้องเต็มหมด ต้องอยู่ห้องรวม สงสารแม่มาก ธรรมดาจะมีคนคอยคุยคอยเต้นให้ดู ตอนนี้ไม่มีใครมาคุยด้วยแถมไม่มีใครมาเต้นให้ดูด้วย เหงาใหญ่เลย คุณแม่บอกว่า อยากกลับบ้าน อยากไปเที่ยว สงสารแม่จัง ถ้าได้ห้องเดี่ยว เมื่อไหร่ก็จะมีคนไปเฝ้าหนูก็จะอยู่กับแม่ได้นะจ๊ะ\n",
      "Gold cluster:  [['คุณยายมารศรี อิศรางกูร ณ อยุธยา', 'คุณแม่', 'แม่จ๋า', 'คุณแม่', 'แม่', 'แม่', 'คุณแม่', 'แม่', ''], ['โรงพยาบาล', 'รพ', 'รพ.ราชวิถี'], ['แม่', ''], ['', '', 'หนู', 'หนู', ''], ['', '', 'แม่', '', 'คุณแม่', 'แม่', 'แม่'], ['อ้อย จิระวดี', '', ''], ['คุณหมอ']]\n",
      "Pred cluster:  [['อ้อย จิระวดี', 'คุณแม่', '', '', 'คุณแม่', '', 'หนู', '', 'คุณแม่', '', 'อยากกลับบ้าน ', '', 'หนู', 'หนู ก็จะอยู่กับ แม่'], ['คุณยายมารศรี อิศรางกูร ณ อยุธยา', 'แม่', 'แม่', 'แม่', 'แม่'], ['รพ.ราชวิถี', 'รพ'], ['คุณหมอ', '']]\n",
      "====================================\n",
      "full text:  นับเป็นข่าวเศร้าสลด เมื่อ ดร.วีรพงษ์ รามางกูร หรือ ดร.โกร่ง อดีตรองนายกรัฐมนตรีและอดีตที่ปรึกษาทีมเศรษฐกิจหลายรัฐบาล ถึงแก่อนิจกรรม หลังเข้ารักษาโรคมะเร็ง ที่โรงพยาบาลพระมงกุฎ สิริอายุรวม 78 ปี โดยญาติเตรียมตั้งศพบำเพ็ญกุศลที่วัดมกุฏกษัตริยารามราชวรวิหาร โดยมีนักการเมืองและผู้มีชื่อเสียงร่วมไว้อาลัย เช่น สุรพงษ์ สืบวงศ์ลี อดีตรองนายกรัฐมนตรี พิชัย นริพทะพันธุ์ อดีตรีฐมนตีพลังงาน ศิโรตม์ คล้ามไพบูลย์ พิธีกรข่าวชื่อดัง เป็นต้น  เช่นเดียวกับ ทักษิณ ชินวัตร อดีตนายกรัฐมนตรี โพสต์ข้อความไว้อาลัยผ่านทวิตเตอร์ว่า อาจารย์โกร่งเป็นผู้อยู่เบื้องหลังของการผลักดันให้ไทยหลุดพ้นจากการเป็นหนี้ IMF ครั้งที่ 1 ผมดีใจที่ยังได้มีโอกาสพูดคุยตอนที่อาจารย์เข้าโรงพยาบาล ทำให้ผมเห็นถึงความเข้มแข็งของอาจารย์ ทั้งๆที่รู้ว่าเป็นโรคมะเร็ง ขอแสดงความเสียใจต่อครอบครัวของอาจารย์มา ณ ที่นี้ด้วยครับ\n",
      "Gold cluster:  [['อาจารย์', '', '', 'อาจารย์', 'อาจารย์โกร่ง', 'ดร.โกร่ง', 'อาจารย์', 'ดร.วีรพงษ์ รามางกูร', ''], ['ผม', 'ทักษิณ ชินวัตร', 'ผม', ''], ['สุรพงษ์ สืบวงศ์ลี'], ['พิชัย นริพทะพันธุ์'], ['ศิโรตม์ คล้ามไพบูลย์'], ['ครอบครัวของ อาจารย์']]\n",
      "Pred cluster:  [['ดร.วีรพงษ์ รามางกูร', 'ดร.โกร่ง', '', 'ศิโรตม์ คล้ามไพบูลย์', 'อาจารย์โกร่ง', 'ผม', 'อาจารย์', 'ผม', 'อาจารย์', '', '', 'อาจารย์']]\n",
      "====================================\n",
      "full text:  มหาวิทยาลัยบราวน์รายงานถึง Manfred Steiner ชายวัย 89 ปีที่สอบจบปริญญาเอกฟิสิกส์สำเร็จเมื่อวันที่ 15 กันยายนที่ผ่านมาในหัวข้อ Corrections to the Geometrical Interpretation of Bosonization โดย Steiner ระบุว่าเขาอยากเป็นนักฟิสิกส์มาตั้งแต่เด็ก แต่ครอบครัวอยากให้เป็นหมอ  Steiner ได้ปริญญาเอกแพทย์ศาสตร์จากมหาวิทยาลัยเวียนนาตั้งแต่ปี 1955 และหลังจากนั้นก็ได้ปริญญาเอกใบที่สองสาขาชีวเคมีจาก MIT ในปี 1967 และหลังจากนั้น Steiner ก็ทำงานเป็นนักวิจัยที่มหาวิทยาลัยบราวน์จนเกษียณปี 2000  Steiner เล่าว่าเขายังสนใจฟิสิกส์อยู่เสมอและกลับไปนั่งเรียนวิชาฟิสิกส์ในที่มหาวิทยาลัยบราวน์อยู่บ้างแต่กลับไม่เข้าใจเนื้อหาลึกๆ นัก หลังเกษียณจึงไปลงทะเบียนเรียนในฐานะนักเรียนพิเศษเทอมละ 1-2 วิชา และเก็บวิชาเรียนไปเรื่อยๆ จนสามารถเรียนปริญญาเอกได้ในปี 2007 ระหว่างเรียนเขาพบปัญหาสุขภาพบ้างทำให้กระบวนการเรียนล่าช้าออกไป\n",
      "Gold cluster:  [['<unk>teiner', 'เขา', '<unk>teiner', '<unk>teiner', '', '', 'เขา', '<unk>anfred <unk>teiner', '', '<unk>teiner', '', '', '']]\n",
      "Pred cluster:  [['<unk>anfred <unk>teiner', '<unk>teiner', 'เขา', '<unk>teiner', '', '<unk>teiner', '<unk>teiner', '', '', '', '', '', 'เขา']]\n",
      "====================================\n",
      "full text:  ทักษิณ แซะ ธนาธร งงมากโจมตี เพื่อไทย บอก ก้าวไกล เหมือน ประชาธิปัตย์ เผยที่มาบทสัมภาษณ์ พรรคซื้อบ้านใหญ่-ตระกูลใหญ่  เมื่อเวลา 20.00 น. วันที่ 21 มี.ค.2566 นายทักษิณ ชินวัตร อดีตนายกฯ หรือ โทนี่ วู้ดซัม ตอบคำถามผ่าน CareTalk x Care ClubHouse เลือก•เคลื่อน•ไทย 2566 EP4: เติมเงินครั้งใหญ่ คนไทยไร้จน! ไม่จกตาแน่นะวิ? ตอนหนึ่งได้วิพากษ์วิจารณ์ นายธนาธร จึงรุ่งเรืองกิจ ประธานคณะก้าวหน้า ความว่า ผมงงมาก ธนาธรยังโจมตีเพื่อไทย ที่คนบอกว่าก้าวไกลเหมือนประชาธิปัตย์ ก็จะชักจะเหมือนขึ้นทุกวัน  ทั้งนี้การพาดพิงถึง นายธนาธร น่าจะมาจากการให้สัมภาษณ์รายการหนึ่ง ซึ่งตอนหนึ่งระบุถึงพรรคการเมือง ความว่า พรรคนี้ไปซื้อบ้านใหญ่ ตระกูลบ้านใหญ่นี้จังหวัดนี้ จะไปอยู่พรรคไหน กระโดดกันไปมา ดูถูกประชาชนมาก  บางทีอยู่ขั้วรัฐบาลสนับสนุนรัฐประหาร กระโดดกลับมาอีกฝั่ง บางทีอยู่ฝั่งไม่สนับสนุนจะย้ายไปอยู่ฝั่งเผด็จการทหารจำแลง เหมือนไม่มีอุดมการณ์อะไรเลย เหลือเชื่อมากๆ นี่มันเป็นความล้มเหลวทางสามัญสำนึกเลย คุณจะไม่เห็นพรรคก้าวไกลไปอยู่ในสนามแบบนั้น\n",
      "Gold cluster:  [['ผม', 'โทนี่ วู้ดซัม', 'ายทักษิณ ชินวัตร', 'ทักษิณ'], ['ธนาธร', 'นายธนาธร', 'ธนาธร', 'นายธนาธร จึงรุ่งเรืองกิจ'], ['เพื่อไทย', 'เพื่อไทย'], ['ก้าวไกล', 'ก้าวไกล', 'พรรคก้าวไกล']]\n",
      "Pred cluster:  [['ธนาธร', 'โทนี่ วู้ดซัม', 'นายธนาธร จึงรุ่งเรืองกิจ', 'ธนาธร', 'นายธนาธร', 'พรรคก้าวไกล'], ['ทักษิณ', 'ผม'], ['ประชาธิปัตย์', 'เพื่อไทย']]\n",
      "====================================\n",
      "full text:  ทหารบุกค้นบ้าน ทักษิณ-เยาวภา ย้ำเชียงใหม่ไม่ใช่ฐานของใคร ทุกคนต่างเป็นคนไทยด้วยกัน เมื่อเวลาประมาณ 09.00 น.วันที่ 23 พฤษภาคม 2557 ผู้สื่อข่าวรายงานว่า ได้มีกำลังทหารจำนวนกว่า 20 นาย พร้อมอาวุธครบมือบุกเข้าตรวจค้นบ้านพักของ พ.ต.ท.ทักษิณ ชินวัตร และนางเยาวภา วงศ์สวัสดิ์ แกนนำพรรคเพื่อไทย ซึ่งตั้งอยู่ภายในหมู่บ้านเชียงใหม่กรีนวัลเลย์ อำเภอแม่ริม จังหวัดเชียงใหม่ โดยพบเพียงพ่อบ้านแม่บ้านที่นำตรวจค้นพื้นที่ เบื้องต้นไม่ได้จับกุมหรือตรวจยึดสิ่งของใดๆ โดยใช้เวลาดำเนินการประมาณครึ่งชั่วโมงจึงยกกำลังกลับที่ตั้ง  โดยในพื้นที่จังหวัดเชียงใหม่ มีการนำกำลังทหารอากาศจากกองบิน 41 และค่ายกาวิละ รวม 80 นาย เข้าร่วมปฏิบัติการเพื่อประจำในจุดสำคัญทางยุทธศาสตร์ของสนามบินใน 4 จุด คือ บริเวณประตูเข้า-ออกอาคารผู้โดยสารทั้งภายในและต่างประเทศ อาคารคาร์โก และดับเพลิง รวมทั้งตรวจสอบเครื่องบินเช่าเหมาลำ  ต่อมา ในเวลา 12.00 น. พล.ต.ศรายุธ รังษี ผู้บัญชาการมณฑลทหารบกที่ 33 (มทบ.33) ค่ายกาวิละ อำเภอเมืองเชียงใหม่ ได้พบปะและร่วมพูดคุยกับสื่อมวลชนในพื้นที่้เพื่อสร้างความเข้าใจและแจ้งถึงความจำเป็นของการยึดอำนาจการปกครองพร้อมแสดงความห่วงใยในเรื่องข้อมูลข่าวสาร โดยเฉพาะข่าวลือที่เผยแพร่เรื่องว่ามีทหารเชียงใหม่แตกแถวและเกิดการปฏิวัติซ้อนในช่วงค่ำที่ผ่านมา ซึ่งไม่เป็นความจริง จะมีเพียงการเผายางรถยนต์บนถนน 1 จุด ในพื้นที่สันป่าตองเท่านั้น  ยอมรับว่าลึกๆ ยังมีการเคลื่อนไหวบางอย่างอยู่ แต่ไม่รุนแรงมากนัก อาจเป็นความคุ้นเคยของผู้คนทำให้ออกมาจับกลุ่มชุมนุม หรือขึ้นป้ายต่อต้านทหาร จึงได้จัดส่งทหารเข้าไปเจรจาทำความเข้าใจ ส่วนการเข้าค้นบางพื้นที่นั้นก็เป็นการลาดตระเวนเพื่อตรวจสอบว่ามีความผิดปกติหรือไม่เท่านั้น ดังนั้นการประกาศเคอร์ฟิวจึงจะเข้มข้นเฉพาะคนคิดไม่ดีเท่านั้น  พล.ต.ศรายุธ กล่าวว่า เชียงใหม่ไม่ใช่ฐานของใคร เพราะเราทุกคนต่างเป็นคนไทยด้วยกัน จึงไม่อยากให้เกิดความแตกแยกเป็นฝักเป็นฝ่าย และอยากบอกว่าทุกข์ของประชาชนคือทุกข์ของทหาร และเราต้องร่วมมือกันแก้ไขปัญหาของชาติบ้านเมือง\n",
      "Gold cluster:  [['', 'ทหาร', 'ทหาร', '', ''], ['ทักษิณ', 'พ.ต.ท.ทักษิณ ชินวัตร'], ['นางเยาวภา วงศ์สวัสดิ์', 'เยาวภา'], ['พล.ต.ศรายุธ', '', 'พล.ต.ศรายุธ รังษี'], ['ทักษิณ - เยาวภา'], ['พรรคเพื่อไทย']]\n",
      "Pred cluster:  [['ทักษิณ - เยาวภา', 'นางเยาวภา วงศ์สวัสดิ์', '', 'พล.ต.ศรายุธ'], ['ทหาร', ''], ['พล.ต.ศรายุธ รังษี', '']]\n",
      "====================================\n"
     ]
    }
   ],
   "source": [
    "for doc_key, gold_cluster, prediction_cluster in zip(doc_keys, gold_clusters, prediction_clusters):\n",
    "    tokens = doc_key_to_token_ids_map[doc_key]\n",
    "    print(\"full text: \", \"\".join(data[int(doc_key)][\"tokens\"]))\n",
    "    print(\"Gold cluster: \", [[tokenizer.batch_decode(tokens[:,start:stop])[0] for start, stop in cluster] for cluster in gold_cluster])\n",
    "    print(\"Pred cluster: \", [[tokenizer.batch_decode(tokens[:,start:stop])[0] for start, stop in cluster] for cluster in prediction_cluster])\n",
    "    print(\"====================================\")\n"
   ]
  },
  {
   "cell_type": "code",
   "execution_count": null,
   "metadata": {},
   "outputs": [],
   "source": []
  }
 ],
 "metadata": {
  "kernelspec": {
   "display_name": "Python 3",
   "language": "python",
   "name": "python3"
  },
  "language_info": {
   "codemirror_mode": {
    "name": "ipython",
    "version": 3
   },
   "file_extension": ".py",
   "mimetype": "text/x-python",
   "name": "python",
   "nbconvert_exporter": "python",
   "pygments_lexer": "ipython3",
   "version": "3.10.12"
  },
  "orig_nbformat": 4
 },
 "nbformat": 4,
 "nbformat_minor": 2
}
